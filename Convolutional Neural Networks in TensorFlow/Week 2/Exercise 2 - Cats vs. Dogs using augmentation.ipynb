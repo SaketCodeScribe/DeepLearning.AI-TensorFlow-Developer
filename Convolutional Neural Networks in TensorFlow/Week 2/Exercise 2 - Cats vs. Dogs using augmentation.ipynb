{
 "cells": [
  {
   "cell_type": "code",
   "execution_count": 1,
   "metadata": {
    "id": "zX4Kg8DUTKWO"
   },
   "outputs": [],
   "source": [
    "#@title Licensed under the Apache License, Version 2.0 (the \"License\");\n",
    "# you may not use this file except in compliance with the License.\n",
    "# You may obtain a copy of the License at\n",
    "#\n",
    "# https://www.apache.org/licenses/LICENSE-2.0\n",
    "#\n",
    "# Unless required by applicable law or agreed to in writing, software\n",
    "# distributed under the License is distributed on an \"AS IS\" BASIS,\n",
    "# WITHOUT WARRANTIES OR CONDITIONS OF ANY KIND, either express or implied.\n",
    "# See the License for the specific language governing permissions and\n",
    "# limitations under the License."
   ]
  },
  {
   "cell_type": "code",
   "execution_count": 2,
   "metadata": {
    "id": "dn-6c02VmqiN"
   },
   "outputs": [
    {
     "data": {
      "text/plain": [
       "[PhysicalDevice(name='/physical_device:GPU:0', device_type='GPU')]"
      ]
     },
     "execution_count": 2,
     "metadata": {},
     "output_type": "execute_result"
    }
   ],
   "source": [
    "# In this exercise you will train a CNN on the FULL Cats-v-dogs dataset\n",
    "# This will require you doing a lot of data preprocessing because\n",
    "# the dataset isn't split into training and validation for you\n",
    "# This code block has all the required inputs\n",
    "import os\n",
    "import zipfile\n",
    "import random\n",
    "import tensorflow as tf\n",
    "import time\n",
    "from tensorflow.keras.optimizers import RMSprop\n",
    "from tensorflow.keras.preprocessing import image\n",
    "from tensorflow.keras.preprocessing.image import ImageDataGenerator as IDG\n",
    "from shutil import copyfile\n",
    "\n",
    "tf.config.list_physical_devices(\"GPU\")"
   ]
  },
  {
   "cell_type": "code",
   "execution_count": 3,
   "metadata": {
    "id": "3sd9dQWa23aj"
   },
   "outputs": [],
   "source": [
    "# This code block downloads the full Cats-v-Dogs dataset and stores it as \n",
    "# cats-and-dogs.zip. It then unzips it to /tmp\n",
    "# which will create a tmp/PetImages directory containing subdirectories\n",
    "# called 'Cat' and 'Dog' (that's how the original researchers structured it)\n",
    "# If the URL doesn't work, \n",
    "# .   visit https://www.microsoft.com/en-us/download/confirmation.aspx?id=54765\n",
    "# And right click on the 'Download Manually' link to get a new URL\n",
    "\n",
    "!wget --no-check-certificate \\\n",
    "    \"https://download.microsoft.com/download/3/E/1/3E1C3F21-ECDB-4869-8368-6DEBA77B919F/kagglecatsanddogs_3367a.zip\" \\\n",
    "    -O \"D:/tmp/cats-and-dogs.zip\"\n",
    "\n",
    "local_zip = 'D:/tmp/cats-and-dogs.zip'\n",
    "zip_ref = zipfile.ZipFile(local_zip, 'r')\n",
    "zip_ref.extractall('D:/tmp')\n",
    "zip_ref.close()\n"
   ]
  },
  {
   "cell_type": "code",
   "execution_count": 3,
   "metadata": {
    "id": "gi3yD62a6X3S"
   },
   "outputs": [
    {
     "name": "stdout",
     "output_type": "stream",
     "text": [
      "12501\n",
      "12501\n"
     ]
    }
   ],
   "source": [
    "print(len(os.listdir('D:/tmp/PetImages/Cat/')))\n",
    "print(len(os.listdir('D:/tmp/PetImages/Dog/')))\n",
    "\n",
    "# Expected Output:\n",
    "# 12501\n",
    "# 12501"
   ]
  },
  {
   "cell_type": "code",
   "execution_count": 4,
   "metadata": {
    "id": "F-QkLjxpmyK2"
   },
   "outputs": [
    {
     "name": "stdout",
     "output_type": "stream",
     "text": [
      "[WinError 183] Cannot create a file when that file already exists: 'D:/tmp/cats-v-dogs'\n"
     ]
    }
   ],
   "source": [
    "# Use os.mkdir to create your directories\n",
    "# You will need a directory for cats-v-dogs, and subdirectories for training\n",
    "# and testing. These in turn will need subdirectories for 'cats' and 'dogs'\n",
    "try:\n",
    "    #YOUR CODE GOES HERE\n",
    "    os.mkdir('D:/tmp/cats-v-dogs')\n",
    "    os.mkdir('D:/tmp/cats-v-dogs/training')\n",
    "    os.mkdir('D:/tmp/cats-v-dogs/testing')\n",
    "    os.mkdir('D:/tmp/cats-v-dogs/training/cats')\n",
    "    os.mkdir('D:/tmp/cats-v-dogs/training/dogs')\n",
    "    os.mkdir('D:/tmp/cats-v-dogs/testing/cats')\n",
    "    os.mkdir('D:/tmp/cats-v-dogs/testing/dogs')\n",
    "except OSError as error:\n",
    "    print(error)"
   ]
  },
  {
   "cell_type": "code",
   "execution_count": 6,
   "metadata": {},
   "outputs": [],
   "source": [
    "import glob\n",
    "# Removing files of a directory\n",
    "files = glob.glob('D:/tmp/cats-v-dogs/testing/cats/*.jpg')\n",
    "for f in files:\n",
    "    os.remove(f)\n",
    "files = glob.glob('D:/tmp/cats-v-dogs/testing/dogs/*.jpg')\n",
    "for f in files:\n",
    "    os.remove(f)\n",
    "files = glob.glob('D:/tmp/cats-v-dogs/training/dogs/*.jpg')\n",
    "for f in files:\n",
    "    os.remove(f)\n",
    "files = glob.glob('D:/tmp/cats-v-dogs/training/cats/*.jpg')\n",
    "for f in files:\n",
    "    os.remove(f)"
   ]
  },
  {
   "cell_type": "code",
   "execution_count": 7,
   "metadata": {
    "id": "zvSODo0f9LaU"
   },
   "outputs": [
    {
     "name": "stdout",
     "output_type": "stream",
     "text": [
      "666.jpg is zero length, so ignoring\n",
      "11702.jpg is zero length, so ignoring\n"
     ]
    },
    {
     "name": "stderr",
     "output_type": "stream",
     "text": [
      "D:\\anaconda3\\lib\\site-packages\\PIL\\TiffImagePlugin.py:793: UserWarning: Truncated File Read\n",
      "  warnings.warn(str(msg))\n"
     ]
    }
   ],
   "source": [
    "# Write a python function called split_data which takes\n",
    "# a SOURCE directory containing the files\n",
    "# a TRAINING directory that a portion of the files will be copied to\n",
    "# a TESTING directory that a portion of the files will be copie to\n",
    "# a SPLIT SIZE to determine the portion\n",
    "# The files should also be randomized, so that the training set is a random\n",
    "# X% of the files, and the test set is the remaining files\n",
    "# SO, for example, if SOURCE is PetImages/Cat, and SPLIT SIZE is .9\n",
    "# Then 90% of the images in PetImages/Cat will be copied to the TRAINING dir\n",
    "# and 10% of the images will be copied to the TESTING dir\n",
    "# Also -- All images should be checked, and if they have a zero file length,\n",
    "# they will not be copied over\n",
    "#\n",
    "# os.listdir(DIRECTORY) gives you a listing of the contents of that directory\n",
    "# os.path.getsize(PATH) gives you the size of the file\n",
    "# copyfile(source, destination) copies a file from source to destination\n",
    "# random.sample(list, len(list)) shuffles a list\n",
    "def split_data(SOURCE, TRAINING, TESTING, SPLIT_SIZE):\n",
    "    # YOUR CODE STARTS HERE\n",
    "    n = len(os.listdir(SOURCE))\n",
    "    n = int(SPLIT_SIZE * n) + 1\n",
    "    \n",
    "    train_path = [os.path.join(SOURCE,path) for path in os.listdir(SOURCE)[:n]]\n",
    "    test_path = [os.path.join(SOURCE,path) for path in os.listdir(SOURCE)[n:]]\n",
    "    random.shuffle(train_path)\n",
    "    random.shuffle(test_path)\n",
    "    for path in train_path:\n",
    "        try:\n",
    "            image.load_img(path)\n",
    "            copyfile(path, os.path.join(TRAINING, path.split('/')[-1]))\n",
    "        except:\n",
    "            if path.split('/')[-1] == 'Thumbs.db':\n",
    "                pass\n",
    "            else:\n",
    "                print(f'{path.split(\"/\")[-1]} is zero length, so ignoring')\n",
    "    for path in test_path:\n",
    "        try:\n",
    "            image.load_img(path)\n",
    "            copyfile(path, os.path.join(TESTING, path.split('/')[-1]))\n",
    "        except:\n",
    "            if path.split('/')[-1] == 'Thumbs.db':\n",
    "                pass\n",
    "            else:\n",
    "                print(f'{path.split(\"/\")[-1]} is zero length, so ignoring')\n",
    "    # YOUR CODE ENDS HERE\n",
    "\n",
    "\n",
    "CAT_SOURCE_DIR = \"D:/tmp/PetImages/Cat/\"\n",
    "TRAINING_CATS_DIR = \"D:/tmp/cats-v-dogs/training/cats/\"\n",
    "TESTING_CATS_DIR = \"D:/tmp/cats-v-dogs/testing/cats/\"\n",
    "DOG_SOURCE_DIR = \"D:/tmp/PetImages/Dog/\"\n",
    "TRAINING_DOGS_DIR = \"D:/tmp/cats-v-dogs/training/dogs/\"\n",
    "TESTING_DOGS_DIR = \"D:/tmp/cats-v-dogs/testing/dogs/\"\n",
    "\n",
    "split_size = .9\n",
    "split_data(CAT_SOURCE_DIR, TRAINING_CATS_DIR, TESTING_CATS_DIR, split_size)\n",
    "split_data(DOG_SOURCE_DIR, TRAINING_DOGS_DIR, TESTING_DOGS_DIR, split_size)\n",
    "\n",
    "# Expected output\n",
    "# 666.jpg is zero length, so ignoring\n",
    "# 11702.jpg is zero length, so ignoring"
   ]
  },
  {
   "cell_type": "code",
   "execution_count": 4,
   "metadata": {
    "id": "luthalB76ufC"
   },
   "outputs": [
    {
     "name": "stdout",
     "output_type": "stream",
     "text": [
      "11250\n",
      "11250\n",
      "1249\n",
      "1249\n"
     ]
    }
   ],
   "source": [
    "print(len(os.listdir('D:/tmp/cats-v-dogs/training/cats/')))\n",
    "print(len(os.listdir('D:/tmp/cats-v-dogs/training/dogs/')))\n",
    "print(len(os.listdir('D:/tmp/cats-v-dogs/testing/cats/')))\n",
    "print(len(os.listdir('D:/tmp/cats-v-dogs/testing/dogs/')))\n",
    "\n",
    "# Expected output:\n",
    "# 11250\n",
    "# 11250\n",
    "# 1250\n",
    "# 1250"
   ]
  },
  {
   "cell_type": "code",
   "execution_count": 25,
   "metadata": {
    "id": "-BQrav4anTmj"
   },
   "outputs": [
    {
     "name": "stdout",
     "output_type": "stream",
     "text": [
      "Model: \"sequential_3\"\n",
      "_________________________________________________________________\n",
      "Layer (type)                 Output Shape              Param #   \n",
      "=================================================================\n",
      "conv2d_9 (Conv2D)            (None, 148, 148, 16)      448       \n",
      "_________________________________________________________________\n",
      "max_pooling2d_9 (MaxPooling2 (None, 74, 74, 16)        0         \n",
      "_________________________________________________________________\n",
      "conv2d_10 (Conv2D)           (None, 72, 72, 32)        4640      \n",
      "_________________________________________________________________\n",
      "max_pooling2d_10 (MaxPooling (None, 36, 36, 32)        0         \n",
      "_________________________________________________________________\n",
      "conv2d_11 (Conv2D)           (None, 34, 34, 64)        18496     \n",
      "_________________________________________________________________\n",
      "max_pooling2d_11 (MaxPooling (None, 17, 17, 64)        0         \n",
      "_________________________________________________________________\n",
      "flatten_3 (Flatten)          (None, 18496)             0         \n",
      "_________________________________________________________________\n",
      "dense_6 (Dense)              (None, 512)               9470464   \n",
      "_________________________________________________________________\n",
      "dense_7 (Dense)              (None, 128)               65664     \n",
      "_________________________________________________________________\n",
      "dense_8 (Dense)              (None, 1)                 129       \n",
      "=================================================================\n",
      "Total params: 9,559,841\n",
      "Trainable params: 9,559,841\n",
      "Non-trainable params: 0\n",
      "_________________________________________________________________\n",
      "None\n"
     ]
    }
   ],
   "source": [
    "# DEFINE A KERAS MODEL TO CLASSIFY CATS V DOGS\n",
    "# USE AT LEAST 3 CONVOLUTION LAYERS\n",
    "model = tf.keras.models.Sequential([\n",
    "                 tf.keras.layers.Conv2D(16,3,activation='relu',input_shape = (150,150,3)),\n",
    "                 tf.keras.layers.MaxPool2D(2,2),\n",
    "                 tf.keras.layers.Conv2D(32,3,activation='relu'),\n",
    "                 tf.keras.layers.MaxPool2D(2,2),\n",
    "                 tf.keras.layers.Conv2D(64,3,activation='relu'),\n",
    "                 tf.keras.layers.MaxPool2D(2,2),\n",
    "                 tf.keras.layers.Flatten(),\n",
    "                 tf.keras.layers.Dense(512,activation = 'relu'),\n",
    "                 tf.keras.layers.Dense(128,activation = 'relu'),\n",
    "                 tf.keras.layers.Dense(1,activation = 'sigmoid'),\n",
    "])\n",
    "print(model.summary())\n",
    "model.compile(optimizer=RMSprop(learning_rate=0.001), loss='binary_crossentropy', metrics=['accuracy'])"
   ]
  },
  {
   "cell_type": "code",
   "execution_count": 26,
   "metadata": {
    "id": "mlNjoJ5D61N6"
   },
   "outputs": [
    {
     "name": "stdout",
     "output_type": "stream",
     "text": [
      "Found 22500 images belonging to 2 classes.\n",
      "Found 2498 images belonging to 2 classes.\n"
     ]
    }
   ],
   "source": [
    "TRAINING_DIR = 'D:/tmp/cats-v-dogs/training'\n",
    "train_datagen = IDG(\n",
    "                    rescale = 1/255,\n",
    "                    rotation_range = 40,\n",
    "                    width_shift_range = 0.2,\n",
    "                    height_shift_range = 0.2,\n",
    "                    shear_range = 0.2,\n",
    "                    zoom_range = 0.2,\n",
    "                    horizontal_flip = True,\n",
    "                    fill_mode = 'nearest'\n",
    "                    )\n",
    "train_generator = train_datagen.flow_from_directory(\n",
    "                                TRAINING_DIR,\n",
    "                                target_size = (150,150),\n",
    "                                batch_size = 128,\n",
    "                                class_mode = 'binary'\n",
    "                    )\n",
    "\n",
    "VALIDATION_DIR = 'D:/tmp/cats-v-dogs/testing'\n",
    "validation_datagen = IDG(\n",
    "                        rescale = 1/255,\n",
    "                        rotation_range = 40,\n",
    "                        width_shift_range = 0.2,\n",
    "                        height_shift_range = 0.2,\n",
    "                        shear_range = 0.2,\n",
    "                        zoom_range = 0.2,\n",
    "                        horizontal_flip = True,\n",
    "                        fill_mode = 'nearest'\n",
    "                        )\n",
    "validation_generator = validation_datagen.flow_from_directory(\n",
    "                                    VALIDATION_DIR,\n",
    "                                    target_size = (150,150),\n",
    "                                    batch_size = 32,\n",
    "                                    class_mode = 'binary'\n",
    "                        )\n",
    "# Expected Output:\n",
    "# Found 22498 images belonging to 2 classes.\n",
    "# Found 2500 images belonging to 2 classes."
   ]
  },
  {
   "cell_type": "code",
   "execution_count": 27,
   "metadata": {
    "id": "KyS4n53w7DxC"
   },
   "outputs": [
    {
     "name": "stdout",
     "output_type": "stream",
     "text": [
      "Epoch 1/15\n",
      "88/88 [==============================] - 81s 909ms/step - loss: 0.7442 - accuracy: 0.5403 - val_loss: 0.6725 - val_accuracy: 0.6146\n",
      "Epoch 2/15\n",
      "88/88 [==============================] - 81s 915ms/step - loss: 0.6695 - accuracy: 0.6091 - val_loss: 0.6174 - val_accuracy: 0.6795\n",
      "Epoch 3/15\n",
      "88/88 [==============================] - 83s 946ms/step - loss: 0.6479 - accuracy: 0.6460 - val_loss: 0.6089 - val_accuracy: 0.6915\n",
      "Epoch 4/15\n",
      "88/88 [==============================] - 84s 959ms/step - loss: 0.6167 - accuracy: 0.6590 - val_loss: 0.6048 - val_accuracy: 0.6518\n",
      "Epoch 5/15\n",
      "88/88 [==============================] - 81s 916ms/step - loss: 0.6006 - accuracy: 0.6748 - val_loss: 0.5765 - val_accuracy: 0.7047\n",
      "Epoch 6/15\n",
      "88/88 [==============================] - 85s 966ms/step - loss: 0.5777 - accuracy: 0.6960 - val_loss: 0.5910 - val_accuracy: 0.6731\n",
      "Epoch 7/15\n",
      "88/88 [==============================] - 101s 1s/step - loss: 0.5694 - accuracy: 0.7007 - val_loss: 0.5446 - val_accuracy: 0.7155\n",
      "Epoch 8/15\n",
      "88/88 [==============================] - 88s 1s/step - loss: 0.5486 - accuracy: 0.7207 - val_loss: 0.5254 - val_accuracy: 0.7316\n",
      "Epoch 9/15\n",
      "88/88 [==============================] - 82s 934ms/step - loss: 0.5492 - accuracy: 0.7203 - val_loss: 0.5198 - val_accuracy: 0.7488\n",
      "Epoch 10/15\n",
      "88/88 [==============================] - 83s 943ms/step - loss: 0.5356 - accuracy: 0.7273 - val_loss: 0.5200 - val_accuracy: 0.7460\n",
      "Epoch 11/15\n",
      "88/88 [==============================] - 84s 951ms/step - loss: 0.5314 - accuracy: 0.7362 - val_loss: 0.5105 - val_accuracy: 0.7456\n",
      "Epoch 12/15\n",
      "88/88 [==============================] - 85s 963ms/step - loss: 0.5224 - accuracy: 0.7440 - val_loss: 0.4853 - val_accuracy: 0.7708\n",
      "Epoch 13/15\n",
      "88/88 [==============================] - 83s 940ms/step - loss: 0.5150 - accuracy: 0.7470 - val_loss: 0.4845 - val_accuracy: 0.7672\n",
      "Epoch 14/15\n",
      "88/88 [==============================] - 80s 907ms/step - loss: 0.5041 - accuracy: 0.7542 - val_loss: 0.4963 - val_accuracy: 0.7628\n",
      "Epoch 15/15\n",
      "88/88 [==============================] - 79s 904ms/step - loss: 0.4990 - accuracy: 0.7639 - val_loss: 0.5215 - val_accuracy: 0.7456\n"
     ]
    }
   ],
   "source": [
    "t = time.process_time()\n",
    "history = model.fit(train_generator,\n",
    "                              epochs=15,\n",
    "                              verbose=1,\n",
    "                              steps_per_epoch = 88,\n",
    "                              validation_steps = 78,\n",
    "                              validation_data=validation_generator)\n",
    "elapsed_time = time.process_time() - t\n",
    "# The expectation here is that the model will train, and that accuracy will be > 95% on both training and validation\n",
    "# i.e. acc:A1 and val_acc:A2 will be visible, and both A1 and A2 will be > .9"
   ]
  },
  {
   "cell_type": "code",
   "execution_count": 28,
   "metadata": {},
   "outputs": [
    {
     "name": "stdout",
     "output_type": "stream",
     "text": [
      "Time Taken for training: 1376.71875 sec\n"
     ]
    }
   ],
   "source": [
    "print(f'Time Taken for training: {elapsed_time} sec')"
   ]
  },
  {
   "cell_type": "code",
   "execution_count": 29,
   "metadata": {
    "id": "MWZrJN4-65RC"
   },
   "outputs": [
    {
     "data": {
      "text/plain": [
       "Text(0.5, 1.0, 'Training and validation loss')"
      ]
     },
     "execution_count": 29,
     "metadata": {},
     "output_type": "execute_result"
    },
    {
     "data": {
      "image/png": "[encoded data removed]",
      "text/plain": [
       "<Figure size 432x288 with 1 Axes>"
      ]
     },
     "metadata": {
      "needs_background": "light"
     },
     "output_type": "display_data"
    },
    {
     "data": {
      "image/png": "[encoded data removed]",
      "text/plain": [
       "<Figure size 432x288 with 1 Axes>"
      ]
     },
     "metadata": {
      "needs_background": "light"
     },
     "output_type": "display_data"
    }
   ],
   "source": [
    "# PLOT LOSS AND ACCURACY\n",
    "%matplotlib inline\n",
    "\n",
    "import matplotlib.image  as mpimg\n",
    "import matplotlib.pyplot as plt\n",
    "\n",
    "#-----------------------------------------------------------\n",
    "# Retrieve a list of list results on training and test data\n",
    "# sets for each training epoch\n",
    "#-----------------------------------------------------------\n",
    "acc=history.history['accuracy']\n",
    "val_acc=history.history['val_accuracy']\n",
    "loss=history.history['loss']\n",
    "val_loss=history.history['val_loss']\n",
    "\n",
    "epochs=range(len(acc)) # Get number of epochs\n",
    "\n",
    "#------------------------------------------------\n",
    "# Plot training and validation accuracy per epoch\n",
    "#------------------------------------------------\n",
    "plt.plot(epochs, acc, 'r', \"Training Accuracy\")\n",
    "plt.plot(epochs, val_acc, 'b', \"Validation Accuracy\")\n",
    "plt.title('Training and validation accuracy')\n",
    "plt.figure()\n",
    "\n",
    "#------------------------------------------------\n",
    "# Plot training and validation loss per epoch\n",
    "#------------------------------------------------\n",
    "plt.plot(epochs, loss, 'r', \"Training Loss\")\n",
    "plt.plot(epochs, val_loss, 'b', \"Validation Loss\")\n",
    "\n",
    "\n",
    "plt.title('Training and validation loss')\n",
    "\n",
    "# Desired output. Charts with training and validation metrics. No crash :)"
   ]
  },
  {
   "cell_type": "code",
   "execution_count": null,
   "metadata": {
    "id": "LqL6FYUrtXpf"
   },
   "outputs": [],
   "source": [
    "# Here's a codeblock just for fun. You should be able to upload an image here \n",
    "# and have it classified without crashing\n",
    "\n",
    "import numpy as np\n",
    "from google.colab import files\n",
    "from keras.preprocessing import image\n",
    "\n",
    "uploaded = files.upload()\n",
    "\n",
    "for fn in uploaded.keys():\n",
    " \n",
    "  # predicting images\n",
    "  path = '/content/' + fn\n",
    "  img = image.load_img(path, target_size=(# YOUR CODE HERE))\n",
    "  x = image.img_to_array(img)\n",
    "  x = np.expand_dims(x, axis=0)\n",
    "\n",
    "  images = np.vstack([x])\n",
    "  classes = model.predict(images, batch_size=10)\n",
    "  print(classes[0])\n",
    "  if classes[0]>0.5:\n",
    "    print(fn + \" is a dog\")\n",
    "  else:\n",
    "    print(fn + \" is a cat\")"
   ]
  }
 ],
 "metadata": {
  "colab": {
   "collapsed_sections": [],
   "name": "Exercise 6 - Question.ipynb",
   "provenance": []
  },
  "kernelspec": {
   "display_name": "Python 3",
   "language": "python",
   "name": "python3"
  },
  "language_info": {
   "codemirror_mode": {
    "name": "ipython",
    "version": 3
   },
   "file_extension": ".py",
   "mimetype": "text/x-python",
   "name": "python",
   "nbconvert_exporter": "python",
   "pygments_lexer": "ipython3",
   "version": "3.8.8"
  }
 },
 "nbformat": 4,
 "nbformat_minor": 1
}
